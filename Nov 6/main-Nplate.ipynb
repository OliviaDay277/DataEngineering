{
 "cells": [
  {
   "cell_type": "code",
   "execution_count": 1,
   "metadata": {},
   "outputs": [],
   "source": [
    "import os"
   ]
  },
  {
   "cell_type": "code",
   "execution_count": 2,
   "metadata": {},
   "outputs": [],
   "source": [
    "import pandas as pd"
   ]
  },
  {
   "cell_type": "code",
   "execution_count": 3,
   "metadata": {},
   "outputs": [],
   "source": [
    "from APRGenerator import APR_analytical_pipeline as apr"
   ]
  },
  {
   "cell_type": "code",
   "execution_count": 4,
   "metadata": {},
   "outputs": [],
   "source": [
    "program=\"Nplate\"\n",
    "file_path=\"Nplate-PMAF-exluded.csv\""
   ]
  },
  {
   "cell_type": "code",
   "execution_count": null,
   "metadata": {},
   "outputs": [],
   "source": []
  },
  {
   "cell_type": "code",
   "execution_count": 5,
   "metadata": {},
   "outputs": [],
   "source": [
    "df=pd.read_csv(file_path,index_col=False)"
   ]
  },
  {
   "cell_type": "code",
   "execution_count": 6,
   "metadata": {},
   "outputs": [],
   "source": [
    "workflow=apr(program, file_path)"
   ]
  },
  {
   "cell_type": "code",
   "execution_count": 7,
   "metadata": {},
   "outputs": [],
   "source": [
    "#delete the empty rows at the end of the file\n",
    "df=df.dropna(how=\"all\")"
   ]
  },
  {
   "cell_type": "code",
   "execution_count": 8,
   "metadata": {},
   "outputs": [
    {
     "data": {
      "text/plain": [
       "Index(['UNIT PROCEDURE', 'SAMPLING POINT', 'PARAMETER NAME',\n",
       "       'PARAMETER DETAIL', 'RUN NUMBER', 'BATCH NUMBER', 'DATE OF MANUFACTURE',\n",
       "       'PROCESS START', 'PARAMETER DATE', 'LOCAL ID', 'VALUE_TEXT(Reported)',\n",
       "       'VALUE_NUM(Recorded Full precision)', 'UOM', 'LAL', 'UAL', 'LCL', 'UCL',\n",
       "       'LRL', 'URL', 'CL', 'NEL 1', 'NEL 2', 'NEL 3', 'NEL 4', 'PPK', 'REP',\n",
       "       'CONTROL_PRECISION', 'ACTION_PRECISION', 'REJECTION_PRECISION', 'SCALE',\n",
       "       'SUMMARY TABLE', 'DISPOSITION_DATE', 'RESULT_TYPE', 'SOURCE_SYSTEM',\n",
       "       'CTRL_VIOLATION', 'ACTION_VIOLATION', 'REJ_VIOLATION'],\n",
       "      dtype='object')"
      ]
     },
     "execution_count": 8,
     "metadata": {},
     "output_type": "execute_result"
    }
   ],
   "source": [
    "df.columns"
   ]
  },
  {
   "cell_type": "code",
   "execution_count": 9,
   "metadata": {},
   "outputs": [
    {
     "data": {
      "text/plain": [
       "32"
      ]
     },
     "execution_count": 9,
     "metadata": {},
     "output_type": "execute_result"
    }
   ],
   "source": [
    "len(df)"
   ]
  },
  {
   "cell_type": "code",
   "execution_count": 10,
   "metadata": {},
   "outputs": [],
   "source": [
    "df=workflow.df_colname_unify(df)\n",
    "# make modification on the original dataset, update the df outside the class "
   ]
  },
  {
   "cell_type": "code",
   "execution_count": 11,
   "metadata": {},
   "outputs": [],
   "source": [
    "df=workflow.specs_num_conversion(df)"
   ]
  },
  {
   "cell_type": "code",
   "execution_count": 12,
   "metadata": {},
   "outputs": [],
   "source": [
    "quan_list=workflow.quanti_quali_namelists(df)[0]"
   ]
  },
  {
   "cell_type": "code",
   "execution_count": 13,
   "metadata": {},
   "outputs": [],
   "source": [
    "#work only on the quantitative dataset after this \n",
    "df_quan=df[df[\"parameter name\"].isin(quan_list)].copy()"
   ]
  },
  {
   "cell_type": "code",
   "execution_count": 14,
   "metadata": {},
   "outputs": [
    {
     "name": "stderr",
     "output_type": "stream",
     "text": [
      "/usr/local/lib/python3.6/dist-packages/pandas/core/indexing.py:194: SettingWithCopyWarning: \n",
      "A value is trying to be set on a copy of a slice from a DataFrame\n",
      "\n",
      "See the caveats in the documentation: http://pandas.pydata.org/pandas-docs/stable/indexing.html#indexing-view-versus-copy\n",
      "  self._setitem_with_indexer(indexer, value)\n"
     ]
    }
   ],
   "source": [
    "df_quan=workflow.add_specside(df_quan)\n",
    "df_quan=workflow.add_clside(df_quan)"
   ]
  },
  {
   "cell_type": "code",
   "execution_count": 15,
   "metadata": {},
   "outputs": [],
   "source": [
    "para_unit_pair_df=workflow.para_unit_combi_df(df_quan)"
   ]
  },
  {
   "cell_type": "code",
   "execution_count": 16,
   "metadata": {},
   "outputs": [],
   "source": [
    "df_quan=df_quan.sort_values(by=[\"parameter name\",\"unit procedure\",\"parameter date\"])"
   ]
  },
  {
   "cell_type": "code",
   "execution_count": 17,
   "metadata": {},
   "outputs": [
    {
     "name": "stderr",
     "output_type": "stream",
     "text": [
      "/usr/local/lib/python3.6/dist-packages/pandas/core/indexing.py:194: SettingWithCopyWarning: \n",
      "A value is trying to be set on a copy of a slice from a DataFrame\n",
      "\n",
      "See the caveats in the documentation: http://pandas.pydata.org/pandas-docs/stable/indexing.html#indexing-view-versus-copy\n",
      "  self._setitem_with_indexer(indexer, value)\n"
     ]
    }
   ],
   "source": [
    "df_quan=workflow.spec_correction_rawset(df_quan)\n",
    "#no return, make modification on df_quan"
   ]
  },
  {
   "cell_type": "code",
   "execution_count": 18,
   "metadata": {},
   "outputs": [
    {
     "data": {
      "text/plain": [
       "Index(['unit procedure', 'sampling point', 'parameter name',\n",
       "       'parameter detail', 'run number', 'batch number', 'date of manufacture',\n",
       "       'process start', 'parameter date', 'local id', 'value_text(reported)',\n",
       "       'value_num(recorded/full precision)', 'uom', 'LAL', 'UAL', 'LCL', 'UCL',\n",
       "       'lrl', 'url', 'cl', 'nel 1', 'nel 2', 'nel 3', 'nel 4', 'ppk', 'rep',\n",
       "       'control_precision', 'action_precision', 'rejection_precision', 'scale',\n",
       "       'summary table', 'disposition_date', 'result type', 'source_system',\n",
       "       'ctrl_violation', 'action_violation', 'rej_violation', 'spec status',\n",
       "       'ctrl status'],\n",
       "      dtype='object')"
      ]
     },
     "execution_count": 18,
     "metadata": {},
     "output_type": "execute_result"
    }
   ],
   "source": [
    "df_quan.columns"
   ]
  },
  {
   "cell_type": "code",
   "execution_count": 19,
   "metadata": {},
   "outputs": [],
   "source": [
    "OOS_list=workflow.find_oos_index(df_quan)\n",
    "OOT_list=workflow.find_oot_index(df_quan)"
   ]
  },
  {
   "cell_type": "code",
   "execution_count": 20,
   "metadata": {},
   "outputs": [],
   "source": [
    "OOST_list=list(set(OOS_list+OOT_list))"
   ]
  },
  {
   "cell_type": "code",
   "execution_count": 21,
   "metadata": {},
   "outputs": [],
   "source": [
    "df_quan_OOS=df_quan.loc[OOS_list]\n",
    "#df_quan_OOT=df_quan.loc[OOT_list]\n",
    "#df_quan_no_OOST=df_quan.loc[df_quan.index.difference(OOST_list)]\n",
    "df_quan_no_OOS=df_quan.loc[df_quan.index.difference(OOS_list)]\n",
    "#edit this part, output dataset based on your need\n",
    "df_quan_no_OOS.to_csv(program+\"_quantitative_no_OOS.csv\",index=False)"
   ]
  },
  {
   "cell_type": "code",
   "execution_count": 26,
   "metadata": {},
   "outputs": [],
   "source": [
    "summary_df=workflow.aggre_summary_df_generator(df_quan,\"\",min_size=30)\n",
    "summary_df_no_OOS=workflow.aggre_summary_df_generator(df_quan_no_OOS,\"_no_OOS\",min_size=20)"
   ]
  },
  {
   "cell_type": "code",
   "execution_count": 27,
   "metadata": {},
   "outputs": [
    {
     "data": {
      "text/html": [
       "<div>\n",
       "<style scoped>\n",
       "    .dataframe tbody tr th:only-of-type {\n",
       "        vertical-align: middle;\n",
       "    }\n",
       "\n",
       "    .dataframe tbody tr th {\n",
       "        vertical-align: top;\n",
       "    }\n",
       "\n",
       "    .dataframe thead th {\n",
       "        text-align: right;\n",
       "    }\n",
       "</style>\n",
       "<table border=\"1\" class=\"dataframe\">\n",
       "  <thead>\n",
       "    <tr style=\"text-align: right;\">\n",
       "      <th></th>\n",
       "      <th></th>\n",
       "      <th>CV</th>\n",
       "      <th>KS</th>\n",
       "      <th>LAL</th>\n",
       "      <th>N</th>\n",
       "      <th>Ppk</th>\n",
       "      <th>STD</th>\n",
       "      <th>UAL</th>\n",
       "      <th>kurtosis</th>\n",
       "      <th>mean</th>\n",
       "      <th>median</th>\n",
       "      <th>shapiro</th>\n",
       "      <th>skewness</th>\n",
       "      <th>spec status</th>\n",
       "      <th>varaince</th>\n",
       "    </tr>\n",
       "    <tr>\n",
       "      <th>parameter name</th>\n",
       "      <th>unit procedure</th>\n",
       "      <th></th>\n",
       "      <th></th>\n",
       "      <th></th>\n",
       "      <th></th>\n",
       "      <th></th>\n",
       "      <th></th>\n",
       "      <th></th>\n",
       "      <th></th>\n",
       "      <th></th>\n",
       "      <th></th>\n",
       "      <th></th>\n",
       "      <th></th>\n",
       "      <th></th>\n",
       "      <th></th>\n",
       "    </tr>\n",
       "  </thead>\n",
       "  <tbody>\n",
       "    <tr>\n",
       "      <th>Product purity by CEX-HPLC - Main Peak</th>\n",
       "      <th>DP-IEDL:ADL2-ADL</th>\n",
       "      <td>0.988414</td>\n",
       "      <td>NaN</td>\n",
       "      <td>86.3</td>\n",
       "      <td>32</td>\n",
       "      <td>1.404377</td>\n",
       "      <td>0.890067</td>\n",
       "      <td>.</td>\n",
       "      <td>1.725195</td>\n",
       "      <td>90.049969</td>\n",
       "      <td>90.2415</td>\n",
       "      <td>0.012758</td>\n",
       "      <td>-1.187073</td>\n",
       "      <td>-1</td>\n",
       "      <td>0.792219</td>\n",
       "    </tr>\n",
       "  </tbody>\n",
       "</table>\n",
       "</div>"
      ],
      "text/plain": [
       "                                                               CV  KS   LAL  \\\n",
       "parameter name                         unit procedure                         \n",
       "Product purity by CEX-HPLC - Main Peak DP-IEDL:ADL2-ADL  0.988414 NaN  86.3   \n",
       "\n",
       "                                                          N       Ppk  \\\n",
       "parameter name                         unit procedure                   \n",
       "Product purity by CEX-HPLC - Main Peak DP-IEDL:ADL2-ADL  32  1.404377   \n",
       "\n",
       "                                                              STD UAL  \\\n",
       "parameter name                         unit procedure                   \n",
       "Product purity by CEX-HPLC - Main Peak DP-IEDL:ADL2-ADL  0.890067   .   \n",
       "\n",
       "                                                         kurtosis       mean  \\\n",
       "parameter name                         unit procedure                          \n",
       "Product purity by CEX-HPLC - Main Peak DP-IEDL:ADL2-ADL  1.725195  90.049969   \n",
       "\n",
       "                                                          median   shapiro  \\\n",
       "parameter name                         unit procedure                        \n",
       "Product purity by CEX-HPLC - Main Peak DP-IEDL:ADL2-ADL  90.2415  0.012758   \n",
       "\n",
       "                                                         skewness  \\\n",
       "parameter name                         unit procedure               \n",
       "Product purity by CEX-HPLC - Main Peak DP-IEDL:ADL2-ADL -1.187073   \n",
       "\n",
       "                                                         spec status  varaince  \n",
       "parameter name                         unit procedure                           \n",
       "Product purity by CEX-HPLC - Main Peak DP-IEDL:ADL2-ADL           -1  0.792219  "
      ]
     },
     "execution_count": 27,
     "metadata": {},
     "output_type": "execute_result"
    }
   ],
   "source": [
    "summary_df"
   ]
  },
  {
   "cell_type": "code",
   "execution_count": 26,
   "metadata": {},
   "outputs": [],
   "source": [
    "workflow.summary_print(summary_df, purpose=\"Report\",input_type=\"\")\n",
    "workflow.summary_print(summary_df_no_OOS, purpose=\"Report\",input_type=\"_no_OOS\")"
   ]
  },
  {
   "cell_type": "code",
   "execution_count": 27,
   "metadata": {},
   "outputs": [],
   "source": [
    "workflow.summary_print(summary_df, purpose=\"R_pearson\",input_type=\"\")\n",
    "workflow.summary_print(summary_df_no_OOS, purpose=\"R_pearson\",input_type=\"_no_OOS\")"
   ]
  },
  {
   "cell_type": "markdown",
   "metadata": {},
   "source": [
    "##### ---------------Send the output summary tables to Pearson function in R"
   ]
  },
  {
   "cell_type": "code",
   "execution_count": 52,
   "metadata": {},
   "outputs": [],
   "source": [
    "summary_df_pearson=pd.read_csv(program+\"_summary_stats_pearson.csv\",index_col=None)\n",
    "summary_df_no_OOS_pearson=pd.read_csv(program+\"_summary_stats_no_OOS_pearson.csv\",index_col=None)"
   ]
  },
  {
   "cell_type": "code",
   "execution_count": 53,
   "metadata": {},
   "outputs": [],
   "source": [
    "#column name????\n",
    "#The merged table with 4 ppks\n",
    "summary_df_merged=summary_df_pearson.merge(summary_df_no_OOS_pearson,on=[\"unit procedure\",\"parameter name\"])"
   ]
  },
  {
   "cell_type": "code",
   "execution_count": 54,
   "metadata": {},
   "outputs": [],
   "source": [
    "#can vary the threshold. Using 0.95 now bc of rounding\n",
    "false_pos=summary_df_merged[(summary_df_merged[\"Ppk\"]<0.95)&(summary_df_merged[\"pearson Ppk_no_OOS\"]>=0.95)]\n",
    "false_neg=summary_df_merged[(summary_df_merged[\"Ppk\"]>=0.95)&(summary_df_merged[\"pearson Ppk_no_OOS\"]<=0.95)]"
   ]
  },
  {
   "cell_type": "code",
   "execution_count": 55,
   "metadata": {},
   "outputs": [],
   "source": [
    "false_pos.to_csv(program+\"_false_pos.csv\", index=False)\n",
    "false_neg.to_csv(program+\"_false_neg.csv\", index=False)"
   ]
  },
  {
   "cell_type": "code",
   "execution_count": 69,
   "metadata": {},
   "outputs": [],
   "source": [
    "#make directories for each parameter under false pos and false neg\n",
    "#no space allowed in the folder name(check this out)\n",
    "#The two lines below can not be combine to a single cell???"
   ]
  },
  {
   "cell_type": "code",
   "execution_count": 61,
   "metadata": {},
   "outputs": [],
   "source": [
    "mkdir false_pos"
   ]
  },
  {
   "cell_type": "code",
   "execution_count": 65,
   "metadata": {},
   "outputs": [],
   "source": [
    "mkdir false_neg"
   ]
  },
  {
   "cell_type": "code",
   "execution_count": 66,
   "metadata": {},
   "outputs": [],
   "source": [
    "current_path=os.getcwd()"
   ]
  },
  {
   "cell_type": "code",
   "execution_count": 68,
   "metadata": {},
   "outputs": [],
   "source": [
    "workflow.JMP_single_para_subset_generator(false_pos, df_quan_no_OOS, folder_path=current_path+\"/false_pos\")\n",
    "workflow.JMP_single_para_subset_generator(false_neg, df_quan_no_OOS, folder_path=current_path+\"/false_neg\")"
   ]
  },
  {
   "cell_type": "code",
   "execution_count": null,
   "metadata": {},
   "outputs": [],
   "source": []
  },
  {
   "cell_type": "code",
   "execution_count": 11,
   "metadata": {},
   "outputs": [],
   "source": [
    "ar=pd.read_csv(\"Aranesp_quantitative_no_OOS.csv\",index_col=False)"
   ]
  },
  {
   "cell_type": "code",
   "execution_count": 13,
   "metadata": {},
   "outputs": [],
   "source": [
    "pmafs=pd.read_csv(\"aranesp_pmaf_summary.csv\",index_col=False)"
   ]
  },
  {
   "cell_type": "code",
   "execution_count": 22,
   "metadata": {},
   "outputs": [],
   "source": [
    "aranesp_pmaf_raw=pd.merge(ar,pmafs[[\"parameter name\",\"unit procedure\"]])"
   ]
  },
  {
   "cell_type": "code",
   "execution_count": 28,
   "metadata": {},
   "outputs": [],
   "source": [
    "aranesp_pmaf_raw.to_csv(\"aranesp_pmaf_appx_Nov2.csv\",index=False)"
   ]
  },
  {
   "cell_type": "code",
   "execution_count": 25,
   "metadata": {},
   "outputs": [],
   "source": [
    "pmaf_no_OOS=aranesp.aggre_summary_df_generator(aranesp_pmaf_raw,\"_no_OOS\",min_size=11)"
   ]
  },
  {
   "cell_type": "code",
   "execution_count": 26,
   "metadata": {
    "collapsed": true
   },
   "outputs": [
    {
     "data": {
      "text/html": [
       "<div>\n",
       "<style scoped>\n",
       "    .dataframe tbody tr th:only-of-type {\n",
       "        vertical-align: middle;\n",
       "    }\n",
       "\n",
       "    .dataframe tbody tr th {\n",
       "        vertical-align: top;\n",
       "    }\n",
       "\n",
       "    .dataframe thead th {\n",
       "        text-align: right;\n",
       "    }\n",
       "</style>\n",
       "<table border=\"1\" class=\"dataframe\">\n",
       "  <thead>\n",
       "    <tr style=\"text-align: right;\">\n",
       "      <th></th>\n",
       "      <th>parameter name</th>\n",
       "      <th>unit procedure</th>\n",
       "      <th>N</th>\n",
       "      <th>mean</th>\n",
       "      <th>median</th>\n",
       "      <th>STD</th>\n",
       "      <th>variance</th>\n",
       "      <th>UAL</th>\n",
       "      <th>LAL</th>\n",
       "      <th>spec status</th>\n",
       "      <th>Ppk_no_OOS</th>\n",
       "      <th>skewness</th>\n",
       "      <th>kurtosis</th>\n",
       "      <th>CV</th>\n",
       "      <th>shapiro</th>\n",
       "      <th>KS</th>\n",
       "    </tr>\n",
       "  </thead>\n",
       "  <tbody>\n",
       "    <tr>\n",
       "      <th>0</th>\n",
       "      <td>Immunoassay</td>\n",
       "      <td>PRJU:APR1-DP-ADL</td>\n",
       "      <td>30</td>\n",
       "      <td>1.032880</td>\n",
       "      <td>1.024250</td>\n",
       "      <td>0.078909</td>\n",
       "      <td>0.006227</td>\n",
       "      <td>1.2</td>\n",
       "      <td>0.8</td>\n",
       "      <td>0.0</td>\n",
       "      <td>0.705958</td>\n",
       "      <td>-0.009636</td>\n",
       "      <td>-0.425392</td>\n",
       "      <td>7.639733</td>\n",
       "      <td>0.360184</td>\n",
       "      <td>0.0</td>\n",
       "    </tr>\n",
       "    <tr>\n",
       "      <th>1</th>\n",
       "      <td>In vitro bioassay</td>\n",
       "      <td>PRJU:APR1-DP-ADL</td>\n",
       "      <td>30</td>\n",
       "      <td>105.770333</td>\n",
       "      <td>104.500000</td>\n",
       "      <td>6.318745</td>\n",
       "      <td>39.926541</td>\n",
       "      <td>123</td>\n",
       "      <td>78</td>\n",
       "      <td>0.0</td>\n",
       "      <td>0.908918</td>\n",
       "      <td>0.292673</td>\n",
       "      <td>-0.912300</td>\n",
       "      <td>5.974024</td>\n",
       "      <td>0.173089</td>\n",
       "      <td>0.0</td>\n",
       "    </tr>\n",
       "    <tr>\n",
       "      <th>2</th>\n",
       "      <td>Immunoassay</td>\n",
       "      <td>PRJU:APR1-DP-AML</td>\n",
       "      <td>30</td>\n",
       "      <td>1.048927</td>\n",
       "      <td>1.032500</td>\n",
       "      <td>0.067425</td>\n",
       "      <td>0.004546</td>\n",
       "      <td>1.2</td>\n",
       "      <td>0.8</td>\n",
       "      <td>0.0</td>\n",
       "      <td>0.746873</td>\n",
       "      <td>0.314889</td>\n",
       "      <td>-0.575502</td>\n",
       "      <td>6.427982</td>\n",
       "      <td>0.470639</td>\n",
       "      <td>0.0</td>\n",
       "    </tr>\n",
       "    <tr>\n",
       "      <th>3</th>\n",
       "      <td>Immunoassay</td>\n",
       "      <td>PRJU:APR14-DP-ADL</td>\n",
       "      <td>104</td>\n",
       "      <td>1.047020</td>\n",
       "      <td>1.050000</td>\n",
       "      <td>0.061025</td>\n",
       "      <td>0.003724</td>\n",
       "      <td>1.2</td>\n",
       "      <td>0.8</td>\n",
       "      <td>0.0</td>\n",
       "      <td>0.835614</td>\n",
       "      <td>0.049290</td>\n",
       "      <td>-0.034710</td>\n",
       "      <td>5.828434</td>\n",
       "      <td>0.835735</td>\n",
       "      <td>0.0</td>\n",
       "    </tr>\n",
       "    <tr>\n",
       "      <th>4</th>\n",
       "      <td>Immunoassay</td>\n",
       "      <td>PRJU:APR14-DP-AML</td>\n",
       "      <td>31</td>\n",
       "      <td>1.041948</td>\n",
       "      <td>1.033333</td>\n",
       "      <td>0.073056</td>\n",
       "      <td>0.005337</td>\n",
       "      <td>1.2</td>\n",
       "      <td>0.8</td>\n",
       "      <td>0.0</td>\n",
       "      <td>0.721140</td>\n",
       "      <td>-0.089767</td>\n",
       "      <td>-0.817743</td>\n",
       "      <td>7.011518</td>\n",
       "      <td>0.445171</td>\n",
       "      <td>0.0</td>\n",
       "    </tr>\n",
       "    <tr>\n",
       "      <th>5</th>\n",
       "      <td>CHO Proteins Immunoassay</td>\n",
       "      <td>PRJU:APR6-DS-AML</td>\n",
       "      <td>28</td>\n",
       "      <td>290.535714</td>\n",
       "      <td>289.000000</td>\n",
       "      <td>119.151159</td>\n",
       "      <td>14196.998677</td>\n",
       "      <td>632</td>\n",
       "      <td>.</td>\n",
       "      <td>1.0</td>\n",
       "      <td>0.955269</td>\n",
       "      <td>0.427893</td>\n",
       "      <td>0.034103</td>\n",
       "      <td>41.010848</td>\n",
       "      <td>0.489320</td>\n",
       "      <td>0.0</td>\n",
       "    </tr>\n",
       "    <tr>\n",
       "      <th>6</th>\n",
       "      <td>Isoelectric Focusing: Isoform 21 + 22</td>\n",
       "      <td>PRJU:APR6-DS-AML</td>\n",
       "      <td>29</td>\n",
       "      <td>74.458345</td>\n",
       "      <td>74.447000</td>\n",
       "      <td>4.714579</td>\n",
       "      <td>22.227255</td>\n",
       "      <td>91</td>\n",
       "      <td>54</td>\n",
       "      <td>0.0</td>\n",
       "      <td>1.169539</td>\n",
       "      <td>0.104075</td>\n",
       "      <td>-0.470185</td>\n",
       "      <td>6.331834</td>\n",
       "      <td>0.929388</td>\n",
       "      <td>0.0</td>\n",
       "    </tr>\n",
       "    <tr>\n",
       "      <th>7</th>\n",
       "      <td>Isoelectric Focusing: Isoform 22</td>\n",
       "      <td>PRJU:APR6-DS-AML</td>\n",
       "      <td>29</td>\n",
       "      <td>33.626310</td>\n",
       "      <td>32.748000</td>\n",
       "      <td>4.306350</td>\n",
       "      <td>18.544649</td>\n",
       "      <td>52</td>\n",
       "      <td>24</td>\n",
       "      <td>0.0</td>\n",
       "      <td>0.745125</td>\n",
       "      <td>0.205820</td>\n",
       "      <td>-0.723629</td>\n",
       "      <td>12.806489</td>\n",
       "      <td>0.629205</td>\n",
       "      <td>0.0</td>\n",
       "    </tr>\n",
       "    <tr>\n",
       "      <th>8</th>\n",
       "      <td>Isoelectric Focusing: Isoforms 19 + 20</td>\n",
       "      <td>PRJU:APR6-DS-AML</td>\n",
       "      <td>29</td>\n",
       "      <td>25.541845</td>\n",
       "      <td>25.553000</td>\n",
       "      <td>4.714674</td>\n",
       "      <td>22.228150</td>\n",
       "      <td>43</td>\n",
       "      <td>.</td>\n",
       "      <td>1.0</td>\n",
       "      <td>1.234313</td>\n",
       "      <td>-0.104052</td>\n",
       "      <td>-0.469961</td>\n",
       "      <td>18.458627</td>\n",
       "      <td>0.929531</td>\n",
       "      <td>0.0</td>\n",
       "    </tr>\n",
       "  </tbody>\n",
       "</table>\n",
       "</div>"
      ],
      "text/plain": [
       "                           parameter name     unit procedure    N        mean  \\\n",
       "0                             Immunoassay   PRJU:APR1-DP-ADL   30    1.032880   \n",
       "1                       In vitro bioassay   PRJU:APR1-DP-ADL   30  105.770333   \n",
       "2                             Immunoassay   PRJU:APR1-DP-AML   30    1.048927   \n",
       "3                             Immunoassay  PRJU:APR14-DP-ADL  104    1.047020   \n",
       "4                             Immunoassay  PRJU:APR14-DP-AML   31    1.041948   \n",
       "5                CHO Proteins Immunoassay   PRJU:APR6-DS-AML   28  290.535714   \n",
       "6   Isoelectric Focusing: Isoform 21 + 22   PRJU:APR6-DS-AML   29   74.458345   \n",
       "7        Isoelectric Focusing: Isoform 22   PRJU:APR6-DS-AML   29   33.626310   \n",
       "8  Isoelectric Focusing: Isoforms 19 + 20   PRJU:APR6-DS-AML   29   25.541845   \n",
       "\n",
       "       median         STD      variance  UAL  LAL  spec status  Ppk_no_OOS  \\\n",
       "0    1.024250    0.078909      0.006227  1.2  0.8          0.0    0.705958   \n",
       "1  104.500000    6.318745     39.926541  123   78          0.0    0.908918   \n",
       "2    1.032500    0.067425      0.004546  1.2  0.8          0.0    0.746873   \n",
       "3    1.050000    0.061025      0.003724  1.2  0.8          0.0    0.835614   \n",
       "4    1.033333    0.073056      0.005337  1.2  0.8          0.0    0.721140   \n",
       "5  289.000000  119.151159  14196.998677  632    .          1.0    0.955269   \n",
       "6   74.447000    4.714579     22.227255   91   54          0.0    1.169539   \n",
       "7   32.748000    4.306350     18.544649   52   24          0.0    0.745125   \n",
       "8   25.553000    4.714674     22.228150   43    .          1.0    1.234313   \n",
       "\n",
       "   skewness  kurtosis         CV   shapiro   KS  \n",
       "0 -0.009636 -0.425392   7.639733  0.360184  0.0  \n",
       "1  0.292673 -0.912300   5.974024  0.173089  0.0  \n",
       "2  0.314889 -0.575502   6.427982  0.470639  0.0  \n",
       "3  0.049290 -0.034710   5.828434  0.835735  0.0  \n",
       "4 -0.089767 -0.817743   7.011518  0.445171  0.0  \n",
       "5  0.427893  0.034103  41.010848  0.489320  0.0  \n",
       "6  0.104075 -0.470185   6.331834  0.929388  0.0  \n",
       "7  0.205820 -0.723629  12.806489  0.629205  0.0  \n",
       "8 -0.104052 -0.469961  18.458627  0.929531  0.0  "
      ]
     },
     "execution_count": 26,
     "metadata": {},
     "output_type": "execute_result"
    }
   ],
   "source": [
    "pmaf_no_OOS"
   ]
  },
  {
   "cell_type": "markdown",
   "metadata": {},
   "source": []
  }
 ],
 "metadata": {
  "kernelspec": {
   "display_name": "Python 3",
   "language": "python",
   "name": "python3"
  },
  "language_info": {
   "codemirror_mode": {
    "name": "ipython",
    "version": 3
   },
   "file_extension": ".py",
   "mimetype": "text/x-python",
   "name": "python",
   "nbconvert_exporter": "python",
   "pygments_lexer": "ipython3",
   "version": "3.6.2"
  }
 },
 "nbformat": 4,
 "nbformat_minor": 2
}
