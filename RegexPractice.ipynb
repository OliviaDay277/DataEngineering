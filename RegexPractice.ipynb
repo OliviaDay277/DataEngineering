{
 "cells": [
  {
   "cell_type": "code",
   "execution_count": 1,
   "metadata": {},
   "outputs": [
    {
     "ename": "ModuleNotFoundError",
     "evalue": "No module named 'bq_helper'",
     "output_type": "error",
     "traceback": [
      "\u001b[0;31m---------------------------------------------------------------------------\u001b[0m",
      "\u001b[0;31mModuleNotFoundError\u001b[0m                       Traceback (most recent call last)",
      "\u001b[0;32m<ipython-input-1-10c2d910e6d0>\u001b[0m in \u001b[0;36m<module>\u001b[0;34m()\u001b[0m\n\u001b[1;32m      1\u001b[0m \u001b[0;31m# import package with helper functions\u001b[0m\u001b[0;34m\u001b[0m\u001b[0;34m\u001b[0m\u001b[0m\n\u001b[0;32m----> 2\u001b[0;31m \u001b[0;32mimport\u001b[0m \u001b[0mbq_helper\u001b[0m\u001b[0;34m\u001b[0m\u001b[0m\n\u001b[0m\u001b[1;32m      3\u001b[0m \u001b[0;34m\u001b[0m\u001b[0m\n\u001b[1;32m      4\u001b[0m \u001b[0;31m# create a helper object for this dataset\u001b[0m\u001b[0;34m\u001b[0m\u001b[0;34m\u001b[0m\u001b[0m\n\u001b[1;32m      5\u001b[0m open_aq = bq_helper.BigQueryHelper(active_project=\"bigquery-public-data\",\n",
      "\u001b[0;31mModuleNotFoundError\u001b[0m: No module named 'bq_helper'"
     ]
    }
   ],
   "source": [
    "# import package with helper functions \n",
    "import bq_helper\n",
    "\n",
    "# create a helper object for this dataset\n",
    "open_aq = bq_helper.BigQueryHelper(active_project=\"bigquery-public-data\",\n",
    "                                   dataset_name=\"openaq\")\n",
    "\n",
    "# print all the tables in this dataset (there's only one!)\n",
    "open_aq.list_tables()"
   ]
  },
  {
   "cell_type": "code",
   "execution_count": 3,
   "metadata": {},
   "outputs": [
    {
     "name": "stdout",
     "output_type": "stream",
     "text": [
      "\n",
      "The following command must be run outside of the IPython shell:\n",
      "\n",
      "    $ pip install bq\n",
      "\n",
      "The Python package manager (pip) can only be used from outside of IPython.\n",
      "Please reissue the `pip` command in a separate terminal or command prompt.\n",
      "\n",
      "See the Python documentation for more informations on how to install packages:\n",
      "\n",
      "    https://docs.python.org/3/installing/\n"
     ]
    }
   ],
   "source": [
    "pip install bq"
   ]
  },
  {
   "cell_type": "code",
   "execution_count": 6,
   "metadata": {},
   "outputs": [
    {
     "name": "stdout",
     "output_type": "stream",
     "text": [
      "3\n",
      "olivia is sweet\n",
      "olivia\n",
      "4\n",
      "is\n",
      "1\n",
      "sweet\n",
      "2\n",
      "5\n"
     ]
    }
   ],
   "source": [
    "def is_vowel(letter):\n",
    "    return letter in ['a', 'e', 'i', 'o', 'u', 'y']\n",
    "\n",
    "def score_words(words):\n",
    "    score = 0\n",
    "    for word in words:\n",
    "        print(word)\n",
    "        num_vowels = 0\n",
    "        for letter in word:\n",
    "            if is_vowel(letter):\n",
    "                num_vowels += 1\n",
    "        print(num_vowels)\n",
    "        if num_vowels % 2 == 0:\n",
    "            score += 2\n",
    "        else:\n",
    "            score+=1\n",
    "    return score\n",
    "\n",
    "\n",
    "n = int(input())\n",
    "words = input().split()\n",
    "print(score_words(words))"
   ]
  },
  {
   "cell_type": "code",
   "execution_count": 7,
   "metadata": {},
   "outputs": [],
   "source": [
    "aa=[[1,2],[3,3],[5,1]]"
   ]
  },
  {
   "cell_type": "code",
   "execution_count": 8,
   "metadata": {},
   "outputs": [],
   "source": [
    "bb=[ele[1] for ele in aa]"
   ]
  },
  {
   "cell_type": "code",
   "execution_count": 9,
   "metadata": {},
   "outputs": [
    {
     "data": {
      "text/plain": [
       "[2, 3, 1]"
      ]
     },
     "execution_count": 9,
     "metadata": {},
     "output_type": "execute_result"
    }
   ],
   "source": [
    "bb"
   ]
  },
  {
   "cell_type": "code",
   "execution_count": 11,
   "metadata": {},
   "outputs": [
    {
     "data": {
      "text/plain": [
       "[1, 2, 3, 4]"
      ]
     },
     "execution_count": 11,
     "metadata": {},
     "output_type": "execute_result"
    }
   ],
   "source": [
    "sorted(set([1,1,2,3,4]))"
   ]
  },
  {
   "cell_type": "markdown",
   "metadata": {},
   "source": [
    "A valid credit card from ABCD Bank has the following characteristics: \n",
    "\n",
    "► It must start with a 4/5/6 \n",
    "► It must contain exactly 16 digits. \n",
    "► It must only consist of digits (0-9). \n",
    "► It may have digits in groups of 4, separated by one hyphen \"-\". \n",
    "► It must NOT use any other separator like ' ' , '_', etc. \n",
    "► It must NOT have 4 or more consecutive repeated digits."
   ]
  },
  {
   "cell_type": "code",
   "execution_count": 14,
   "metadata": {},
   "outputs": [],
   "source": [
    "import re"
   ]
  },
  {
   "cell_type": "code",
   "execution_count": 41,
   "metadata": {},
   "outputs": [],
   "source": [
    "re.match(\"[456]\",\"fg5hjk\")"
   ]
  },
  {
   "cell_type": "code",
   "execution_count": 35,
   "metadata": {},
   "outputs": [
    {
     "data": {
      "text/plain": [
       "<_sre.SRE_Match object; span=(9, 10), match=' '>"
      ]
     },
     "execution_count": 35,
     "metadata": {},
     "output_type": "execute_result"
    }
   ],
   "source": [
    "re.search(\"[^0-9-]\",\"0909-00--  \")"
   ]
  },
  {
   "cell_type": "code",
   "execution_count": 37,
   "metadata": {},
   "outputs": [
    {
     "data": {
      "text/plain": [
       "'fghjkghj'"
      ]
     },
     "execution_count": 37,
     "metadata": {},
     "output_type": "execute_result"
    }
   ],
   "source": [
    "\"\".join(\"fghjk--ghj\".split(\"-\"))"
   ]
  },
  {
   "cell_type": "code",
   "execution_count": 50,
   "metadata": {},
   "outputs": [
    {
     "data": {
      "text/plain": [
       "<_sre.SRE_Match object; span=(3, 5), match='hh'>"
      ]
     },
     "execution_count": 50,
     "metadata": {},
     "output_type": "execute_result"
    }
   ],
   "source": [
    "re.search(\"hh*\",\"fgjhhkyhhhndsadfaaaa\")"
   ]
  },
  {
   "cell_type": "code",
   "execution_count": 13,
   "metadata": {},
   "outputs": [
    {
     "name": "stdout",
     "output_type": "stream",
     "text": [
      "2\n",
      "ghjkl\n",
      "ghjkl\n",
      "vbnm\n",
      "vbnm\n"
     ]
    }
   ],
   "source": [
    "N=int(input())\n",
    "card_list=[]\n",
    "for i in range(N):\n",
    "    card=str(input())\n",
    "    card_list.append(card)\n"
   ]
  },
  {
   "cell_type": "code",
   "execution_count": null,
   "metadata": {},
   "outputs": [],
   "source": [
    "def validate_card(card):\n",
    "    /#first exam illegal symbols/punctuations, space can be detected as illegal as well\n",
    "    if re.search(\"[^0-9-]\",card) is not None:\n",
    "        return(\"Invalid\")\n",
    "    else:\n",
    "        card=\"\".join(card.split(\"-\"))\n",
    "        if len(card)!=16:\n",
    "            return(\"Invalid\")\n",
    "        else:\n",
    "            if re.match(\"[456]\",card) is not None:\n",
    "                return(\"Invalid\")\n",
    "            else:\n",
    "                if "
   ]
  }
 ],
 "metadata": {
  "kernelspec": {
   "display_name": "Python 3",
   "language": "python",
   "name": "python3"
  },
  "language_info": {
   "codemirror_mode": {
    "name": "ipython",
    "version": 3
   },
   "file_extension": ".py",
   "mimetype": "text/x-python",
   "name": "python",
   "nbconvert_exporter": "python",
   "pygments_lexer": "ipython3",
   "version": "3.6.2"
  }
 },
 "nbformat": 4,
 "nbformat_minor": 2
}
