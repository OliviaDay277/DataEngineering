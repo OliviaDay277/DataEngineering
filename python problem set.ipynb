{
 "cells": [
  {
   "cell_type": "code",
   "execution_count": 57,
   "metadata": {
    "collapsed": true
   },
   "outputs": [],
   "source": [
    "import numpy as np"
   ]
  },
  {
   "cell_type": "code",
   "execution_count": 58,
   "metadata": {
    "collapsed": true
   },
   "outputs": [],
   "source": [
    "import random"
   ]
  },
  {
   "cell_type": "code",
   "execution_count": 13,
   "metadata": {},
   "outputs": [
    {
     "ename": "TypeError",
     "evalue": "randint() got an unexpected keyword argument 'size'",
     "output_type": "error",
     "traceback": [
      "\u001b[0;31m---------------------------------------------------------------------------\u001b[0m",
      "\u001b[0;31mTypeError\u001b[0m                                 Traceback (most recent call last)",
      "\u001b[0;32m<ipython-input-13-f4f7c2a00d17>\u001b[0m in \u001b[0;36m<module>\u001b[0;34m()\u001b[0m\n\u001b[0;32m----> 1\u001b[0;31m \u001b[0mrandom\u001b[0m\u001b[0;34m.\u001b[0m\u001b[0mrandint\u001b[0m\u001b[0;34m(\u001b[0m\u001b[0;36m1\u001b[0m\u001b[0;34m,\u001b[0m\u001b[0;36m12\u001b[0m\u001b[0;34m,\u001b[0m\u001b[0msize\u001b[0m\u001b[0;34m=\u001b[0m\u001b[0;36m1\u001b[0m\u001b[0;34m)\u001b[0m\u001b[0;34m\u001b[0m\u001b[0m\n\u001b[0m",
      "\u001b[0;31mTypeError\u001b[0m: randint() got an unexpected keyword argument 'size'"
     ]
    }
   ],
   "source": [
    "random.randint(1,12,size=1)"
   ]
  },
  {
   "cell_type": "code",
   "execution_count": 21,
   "metadata": {
    "collapsed": true
   },
   "outputs": [],
   "source": [
    "meals=[]\n",
    "for i in range(100000):\n",
    "    cards=[]\n",
    "    j=0\n",
    "    while (1):\n",
    "        j+=1\n",
    "        cards.append(random.randint(1,12))\n",
    "        if (len(set(cards))==12):\n",
    "            break\n",
    "    meals.append(j)"
   ]
  },
  {
   "cell_type": "code",
   "execution_count": 5,
   "metadata": {},
   "outputs": [
    {
     "data": {
      "text/plain": [
       "3"
      ]
     },
     "execution_count": 5,
     "metadata": {},
     "output_type": "execute_result"
    }
   ],
   "source": [
    "len(set([1,2,3]))"
   ]
  },
  {
   "cell_type": "code",
   "execution_count": 22,
   "metadata": {},
   "outputs": [
    {
     "data": {
      "text/plain": [
       "37.22188"
      ]
     },
     "execution_count": 22,
     "metadata": {},
     "output_type": "execute_result"
    }
   ],
   "source": [
    "np.mean(meals)"
   ]
  },
  {
   "cell_type": "code",
   "execution_count": 18,
   "metadata": {},
   "outputs": [
    {
     "data": {
      "text/plain": [
       "{1, 2, 3, 4, 5, 6, 7, 8, 9, 10, 11, 12}"
      ]
     },
     "execution_count": 18,
     "metadata": {},
     "output_type": "execute_result"
    }
   ],
   "source": [
    "set(cards)"
   ]
  },
  {
   "cell_type": "code",
   "execution_count": 1,
   "metadata": {
    "collapsed": true
   },
   "outputs": [],
   "source": [
    "#if a string has all unique characters\n",
    "#attention: capital case, length"
   ]
  },
  {
   "cell_type": "code",
   "execution_count": 11,
   "metadata": {},
   "outputs": [],
   "source": [
    "def uniq_char_set(str_input):\n",
    "    return(len(str_input)==len(set(list(str_input))))"
   ]
  },
  {
   "cell_type": "code",
   "execution_count": 10,
   "metadata": {},
   "outputs": [
    {
     "data": {
      "text/plain": [
       "3"
      ]
     },
     "execution_count": 10,
     "metadata": {},
     "output_type": "execute_result"
    }
   ],
   "source": [
    "def uniq_char_dict(str_input):\n",
    "    char_list=list(str_input)\n",
    "    char_dict={}\n",
    "    for c in char_list:\n",
    "        if char_list.get(c) is None:\n",
    "            char_dict[c]=1\n",
    "        else:\n",
    "            return(False)\n",
    "    return(True)"
   ]
  },
  {
   "cell_type": "code",
   "execution_count": 12,
   "metadata": {
    "collapsed": true
   },
   "outputs": [],
   "source": [
    "def uniq_char_none(str_input):\n",
    "    char_list=list(str_input)\n",
    "    for i in range(len(char_list)-1):\n",
    "        for j in range(i+1, len(char_list)):\n",
    "            if char_list[i]==char_list[j]:\n",
    "                return(False)\n",
    "    return(True)\n",
    "        "
   ]
  },
  {
   "cell_type": "markdown",
   "metadata": {},
   "source": [
    "ord(str):Given a string representing one Unicode character, return an integer representing the Unicode code point of that character. For example, ord('a') returns the integer 97 "
   ]
  },
  {
   "cell_type": "code",
   "execution_count": 14,
   "metadata": {
    "collapsed": true
   },
   "outputs": [],
   "source": [
    "def has_diff_char(temp_str):\n",
    "\n",
    "    if temp_str is None or len(temp_str) == 0 or len(temp_str)==1:\n",
    "        return True\n",
    "\n",
    "    temp_list = list(temp_str)\n",
    "\n",
    "    hash_container = [0 for i in range(0, 256)]\n",
    "\n",
    "    for item in temp_list:\n",
    "\n",
    "        hash_container[ord(item)] += 1\n",
    "\n",
    "    for item in hash_container:\n",
    "        if item > 1:\n",
    "            return(False)\n",
    "    return(True)"
   ]
  },
  {
   "cell_type": "code",
   "execution_count": 15,
   "metadata": {
    "collapsed": true
   },
   "outputs": [],
   "source": [
    "#Write a method to decide if two strings are anagrams or not\n",
    "#a string can be rearrnaged to another string"
   ]
  },
  {
   "cell_type": "code",
   "execution_count": null,
   "metadata": {
    "collapsed": true
   },
   "outputs": [],
   "source": [
    "def anagram(str1, str2):\n",
    "    str1_list=list(str1)\n",
    "    str2_list=list(str2)\n",
    "    dict_1={}\n",
    "    dict_2={}\n",
    "    for c in str1_list:\n",
    "        if dict_1.get(c) is None:\n",
    "            dict_1[c]=1\n",
    "        else:\n",
    "            dict_1[c]+=1\n",
    "    for c in str2_list:\n",
    "        if dict_2.get(c) is None:\n",
    "            dict_2[c]=1\n",
    "        else:\n",
    "            dict_2[c]+=1\n",
    "    if set(dict_1.keys())==set(dict_2.keys()):\n",
    "        for key in dict_1.keys():\n",
    "            if dict_1[key]!=dict_2[key]:\n",
    "                return(False)\n",
    "        return(True)\n",
    "    else:\n",
    "        return(False)"
   ]
  },
  {
   "cell_type": "code",
   "execution_count": 18,
   "metadata": {},
   "outputs": [
    {
     "data": {
      "text/plain": [
       "True"
      ]
     },
     "execution_count": 18,
     "metadata": {},
     "output_type": "execute_result"
    }
   ],
   "source": [
    "set([1,2,3])==set([2,3,1])"
   ]
  },
  {
   "cell_type": "code",
   "execution_count": null,
   "metadata": {},
   "outputs": [],
   "source": [
    "#replace space with %20\n",
    "string.replace(\" \",\"%20\")\n",
    "#string.split(\" \")  string.upper() string.lower()\n",
    "#str.join(\"str2\")"
   ]
  },
  {
   "cell_type": "code",
   "execution_count": 31,
   "metadata": {},
   "outputs": [],
   "source": [
    "def replace_space(test_str):\n",
    "    str_list=list(test_str)\n",
    "    space_num=sum([c==\" \" for c in str_list])\n",
    "    str_new=[None for i in range(len(str_list)+2*space_num)]\n",
    "    j=0\n",
    "    for i in range(len(str_list)):\n",
    "        if str_list[i]!=\" \":\n",
    "            str_new[j]=str_list[i]\n",
    "            j+=1\n",
    "        else:\n",
    "            str_new[j]=\"%\"\n",
    "            str_new[j+1]=\"2\"\n",
    "            str_new[j+2]=\"0\"\n",
    "            j+=3\n",
    "    return(\"\".join(str_new))"
   ]
  },
  {
   "cell_type": "code",
   "execution_count": 35,
   "metadata": {},
   "outputs": [
    {
     "data": {
      "text/plain": [
       "''"
      ]
     },
     "execution_count": 35,
     "metadata": {},
     "output_type": "execute_result"
    }
   ],
   "source": [
    "replace_space(\"\")"
   ]
  },
  {
   "cell_type": "code",
   "execution_count": 36,
   "metadata": {},
   "outputs": [],
   "source": [
    "#1.5 compress string “aabcccccaa” to “a2b1c5a3”"
   ]
  },
  {
   "cell_type": "code",
   "execution_count": 49,
   "metadata": {
    "collapsed": true
   },
   "outputs": [],
   "source": [
    "def compress_string(str_in):\n",
    "    str_out=[]\n",
    "    count=0\n",
    "    for i in range(len(str_in)):\n",
    "        if i==0:\n",
    "            count+=1\n",
    "            \n",
    "        else:\n",
    "            if str_in[i]==str_in[i-1]:\n",
    "                count+=1\n",
    "            else:\n",
    "                #current char different from the previous char: end repeat and output\n",
    "                str_out.append(str_in[i-1])\n",
    "                str_out.append(str(count))\n",
    "                count=1\n",
    "      #output for the last element          \n",
    "    str_out.append(str_in[i])\n",
    "    str_out.append(str(count))\n",
    "    return(\"\".join(str_out))"
   ]
  },
  {
   "cell_type": "code",
   "execution_count": 55,
   "metadata": {},
   "outputs": [
    {
     "data": {
      "text/plain": [
       "'a1b1'"
      ]
     },
     "execution_count": 55,
     "metadata": {},
     "output_type": "execute_result"
    }
   ],
   "source": [
    "compress_string(\"aabbbcc\")\n",
    "compress_string(\"aabbbc\")\n",
    "compress_string(\"aaaaaaaaaaaaaa\")\n",
    "compress_string(\"a\")\n",
    "compress_string(\"ab\")"
   ]
  },
  {
   "cell_type": "code",
   "execution_count": null,
   "metadata": {
    "collapsed": true
   },
   "outputs": [],
   "source": [
    "#编写一个算法，若M x N矩阵中某个元素为0，则将其所在的行与列清零。"
   ]
  },
  {
   "cell_type": "code",
   "execution_count": 71,
   "metadata": {},
   "outputs": [],
   "source": [
    "def clear_matrix(mx):\n",
    "    row_index, col_index=np.where(mx==0)\n",
    "    row_index=list(row_index)\n",
    "    col_index=list(col_index)\n",
    "    for i in row_index:\n",
    "        mx[i,:]=0\n",
    "    for j in col_index:\n",
    "        mx[:,j]=0\n",
    "        \n",
    "    return(mx)"
   ]
  },
  {
   "cell_type": "code",
   "execution_count": 72,
   "metadata": {},
   "outputs": [
    {
     "data": {
      "text/plain": [
       "array([[0, 0, 0, 0],\n",
       "       [0, 4, 5, 0],\n",
       "       [0, 3, 1, 0]])"
      ]
     },
     "execution_count": 72,
     "metadata": {},
     "output_type": "execute_result"
    }
   ],
   "source": [
    "clear_matrix(bb)"
   ]
  },
  {
   "cell_type": "code",
   "execution_count": 70,
   "metadata": {},
   "outputs": [],
   "source": [
    "bb=np.array([\\\n",
    "  [0,1,2,0],\\\n",
    "  [3,4,5,2],\\\n",
    "  [1,3,1,5]\\\n",
    "])"
   ]
  },
  {
   "cell_type": "markdown",
   "metadata": {},
   "source": [
    "假定有一个方法isSubstring，可检查一个单词是否为其他字符串的子串。给定两个字符串s1和s2。请编写代码检查s2是否为s1旋转而成，要求只能调用一次isSubstring。（比如，waterbottle是erbottlewat。）"
   ]
  },
  {
   "cell_type": "code",
   "execution_count": 104,
   "metadata": {},
   "outputs": [],
   "source": [
    "def reverse_sub(str1,str2):\n",
    "    rev_str2=str2[::-1]#begin:end:step\n",
    "    #rev_str2=[]\n",
    "    #for i in range(len(str2)-1,-1,-1):\n",
    "        #rev_str2.append(str2[i])\n",
    "    return(rev_str2 in str1)\n",
    "    #return(isSub(str1,rev_str2))\n",
    "def isSub(str1,str2):\n",
    "    if (len(str2)==0):\n",
    "        return(True)\n",
    "    i=0\n",
    "    j=0\n",
    "    #i<len(str1)-(len(str2)-1)\n",
    "    while(i<len(str1)):\n",
    "        if (str1[i]==str2[j]):\n",
    "            if (j==(len(str2)-1)):\n",
    "                return(True)\n",
    "            else:\n",
    "                j+=1\n",
    "                i+=1\n",
    "        else:\n",
    "            j=0\n",
    "            i=i-j+1\n",
    "    return(False)\n",
    "def __is_substring(self, str1, str2):\n",
    "        if str2.find(str1) > -1:\n",
    "            return(True)\n",
    "        return (False)\n",
    "def judge_substring(self, str1, str2):\n",
    "\n",
    "    if len(str1) != len(str2):\n",
    "        return (False)\n",
    "\n",
    "    return (is_substring(str1, str2 + str2))\n"
   ]
  },
  {
   "cell_type": "code",
   "execution_count": 107,
   "metadata": {},
   "outputs": [
    {
     "data": {
      "text/plain": [
       "1"
      ]
     },
     "execution_count": 107,
     "metadata": {},
     "output_type": "execute_result"
    }
   ],
   "source": [
    "\"sadf\".find(\"ad\")#return index"
   ]
  },
  {
   "cell_type": "code",
   "execution_count": null,
   "metadata": {},
   "outputs": [],
   "source": [
    "#mid point comparison一个有序数组的元素经过循环移动，元素的顺序可能发生变为“3, 4, 5, 6, 7, 1, 2”。\n",
    "#怎样才能找出数组中最小的那个元素？假设数组中的元素各不相同。\n",
    "    def order_min(self, nums):\n",
    "    \n",
    "        if nums is None:\n",
    "            return None\n",
    "    \n",
    "        nums_len = len(nums)\n",
    "    \n",
    "        if nums_len == 0:\n",
    "            return None\n",
    "    \n",
    "        if nums_len == 1:\n",
    "            return 0\n",
    "    \n",
    "        start, end = 0, nums_len - 1\n",
    "        mid = int(nums_len / 2)\n",
    "    \n",
    "        while end - start > 1:\n",
    "    \n",
    "            if nums[mid] > nums[end]:\n",
    "                start = mid\n",
    "            else:\n",
    "                end = mid\n",
    "    \n",
    "            mid = int((end + start) / 2)\n",
    "    \n",
    "        if nums[start] > nums[end]:\n",
    "            return end\n",
    "        else:\n",
    "            return start"
   ]
  },
  {
   "cell_type": "code",
   "execution_count": null,
   "metadata": {
    "collapsed": true
   },
   "outputs": [],
   "source": [
    "def find_min(nums):\n",
    "    start,end=0,len(nums)-1\n",
    "    mid=int((start+end)/2)\n",
    "    while(end-start>1):\n",
    "        if nums[mid]>nums[end]:\n",
    "            start=mid\n",
    "        else:\n",
    "            end=mid\n",
    "        mid=int((start+end)/2)\n",
    "        \n",
    "    if nums[start] > nums[end]:\n",
    "        return end\n",
    "    else:\n",
    "        return start"
   ]
  },
  {
   "cell_type": "code",
   "execution_count": 112,
   "metadata": {},
   "outputs": [],
   "source": [
    "#Linked list"
   ]
  },
  {
   "cell_type": "code",
   "execution_count": null,
   "metadata": {
    "collapsed": true
   },
   "outputs": [],
   "source": [
    "class Node:\n",
    "    def __init__(self, value):\n",
    "        self.value = value\n",
    "        self.next = None\n",
    "\n",
    "    def __str__(self):\n",
    "        return str(self.value)\n",
    "\n",
    "class LinkedList:\n",
    "    def __init__(self):\n",
    "        self.head = None\n",
    "        self.tail = None\n",
    "\n",
    "    def addNode(self,value):\n",
    "        node = Node(value)\n",
    "        #if the old list is none, set new node as the first node\n",
    "        if self.head == None:\n",
    "            self.head = node\n",
    "            self.tail = node\n",
    "        else:\n",
    "            self.tail.next = node\n",
    "            self.tail = node\n",
    "\n",
    "    def __str__(self):\n",
    "        #return a list of values in string form\n",
    "        if self.head != None:\n",
    "            index = self.head\n",
    "            nodestore = [str(index.value)]\n",
    "            while index.next != None:\n",
    "                index = index.next\n",
    "                nodestore.append(str(index.value))\n",
    "            return (\"LinkedList  [ \" + \"->\".join(nodestore) + \" ]\")\n",
    "        return (\"LinkedList  []\")\n",
    "\n",
    "\n",
    "    #remove the first node that have the same value as the given node_value\n",
    "    def removeNode(self, node_value):\n",
    "        current = self.head\n",
    "        if current.value == node_value:\n",
    "            self.head = self.head.next\n",
    "        while(current.next != None):\n",
    "            if current.next.value == node_value:\n",
    "                current.next = current.next.next\n",
    "                break\n",
    "            else:\n",
    "                current = current.next\n",
    "\n",
    "\n",
    "def randomLinkedList(length, min, max):\n",
    "    linkedlist = LinkedList()\n",
    "    for i in range(length):\n",
    "        value = randint(min, max)\n",
    "        linkedlist.addNode(value)\n",
    "    return linkedlist"
   ]
  },
  {
   "cell_type": "code",
   "execution_count": 111,
   "metadata": {},
   "outputs": [
    {
     "data": {
      "text/plain": [
       "1"
      ]
     },
     "execution_count": 111,
     "metadata": {},
     "output_type": "execute_result"
    }
   ],
   "source": [
    "def find_n_to_last():\n",
    "    "
   ]
  },
  {
   "cell_type": "code",
   "execution_count": 114,
   "metadata": {},
   "outputs": [],
   "source": [
    "del[1]"
   ]
  },
  {
   "cell_type": "code",
   "execution_count": 115,
   "metadata": {
    "collapsed": true
   },
   "outputs": [],
   "source": [
    "a=[1,2,3]\n",
    "del a[1]"
   ]
  },
  {
   "cell_type": "code",
   "execution_count": 116,
   "metadata": {},
   "outputs": [
    {
     "data": {
      "text/plain": [
       "[1, 3]"
      ]
     },
     "execution_count": 116,
     "metadata": {},
     "output_type": "execute_result"
    }
   ],
   "source": [
    "a"
   ]
  },
  {
   "cell_type": "code",
   "execution_count": null,
   "metadata": {
    "collapsed": true
   },
   "outputs": [],
   "source": []
  }
 ],
 "metadata": {
  "kernelspec": {
   "display_name": "Python 3",
   "language": "python",
   "name": "python3"
  },
  "language_info": {
   "codemirror_mode": {
    "name": "ipython",
    "version": 3
   },
   "file_extension": ".py",
   "mimetype": "text/x-python",
   "name": "python",
   "nbconvert_exporter": "python",
   "pygments_lexer": "ipython3",
   "version": "3.6.1"
  }
 },
 "nbformat": 4,
 "nbformat_minor": 2
}
